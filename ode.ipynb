{
 "cells": [
  {
   "cell_type": "code",
   "execution_count": 18,
   "id": "c39b861e-b32b-4a39-b296-27caa4c30bd6",
   "metadata": {},
   "outputs": [],
   "source": [
    "import pandas as pd\n",
    "from sympy import *\n",
    "import sympy as sp\n",
    "from sympy.interactive import printing\n",
    "printing.init_printing(use_latex=True)"
   ]
  },
  {
   "cell_type": "code",
   "execution_count": 19,
   "id": "27737a4c-014e-48e6-a737-5cdb19acf118",
   "metadata": {},
   "outputs": [],
   "source": [
    "x=sp.symbols('x')\n",
    "f=sp.Function('f')(x)"
   ]
  },
  {
   "cell_type": "code",
   "execution_count": 20,
   "id": "8d8a33ea-4953-4079-a093-0026e98b27cf",
   "metadata": {},
   "outputs": [],
   "source": [
    "de1 = Eq(f.diff(x)-f,0)\n",
    "de2 = Eq(f.diff(x),f+x)"
   ]
  },
  {
   "cell_type": "code",
   "execution_count": 21,
   "id": "7c15a632-a08b-40ed-961e-3f3b921c5e55",
   "metadata": {},
   "outputs": [],
   "source": [
    "s = pd.Series([de1,de2]*1000000)"
   ]
  },
  {
   "cell_type": "code",
   "execution_count": 22,
   "id": "724885b6-ecb4-4fff-89cb-cc8ab71e5f0e",
   "metadata": {},
   "outputs": [],
   "source": [
    "df = pd.DataFrame(s)"
   ]
  },
  {
   "cell_type": "code",
   "execution_count": 23,
   "id": "08ace55d-e446-4c4e-a282-e931b101b72b",
   "metadata": {},
   "outputs": [],
   "source": [
    "c = pd.Series([dsolve(de1,f),dsolve(de2,f)]*1000000)"
   ]
  },
  {
   "cell_type": "code",
   "execution_count": 8,
   "id": "b83095f9-245a-4b10-81aa-de2f9cb0a1c2",
   "metadata": {},
   "outputs": [],
   "source": [
    "df['c']=c"
   ]
  },
  {
   "cell_type": "code",
   "execution_count": 9,
   "id": "2298443a-ad34-4f9d-aa84-5bae4debf229",
   "metadata": {},
   "outputs": [
    {
     "data": {
      "text/html": [
       "<div>\n",
       "<style scoped>\n",
       "    .dataframe tbody tr th:only-of-type {\n",
       "        vertical-align: middle;\n",
       "    }\n",
       "\n",
       "    .dataframe tbody tr th {\n",
       "        vertical-align: top;\n",
       "    }\n",
       "\n",
       "    .dataframe thead th {\n",
       "        text-align: right;\n",
       "    }\n",
       "</style>\n",
       "<table border=\"1\" class=\"dataframe\">\n",
       "  <thead>\n",
       "    <tr style=\"text-align: right;\">\n",
       "      <th></th>\n",
       "      <th>0</th>\n",
       "      <th>c</th>\n",
       "    </tr>\n",
       "  </thead>\n",
       "  <tbody>\n",
       "    <tr>\n",
       "      <th>0</th>\n",
       "      <td>Eq(-f(x) + Derivative(f(x), x), 0)</td>\n",
       "      <td>Eq(f(x), C1*exp(x))</td>\n",
       "    </tr>\n",
       "    <tr>\n",
       "      <th>1</th>\n",
       "      <td>Eq(Derivative(f(x), x), x + f(x))</td>\n",
       "      <td>Eq(f(x), (C1 + (-x - 1)*exp(-x))*exp(x))</td>\n",
       "    </tr>\n",
       "    <tr>\n",
       "      <th>2</th>\n",
       "      <td>Eq(-f(x) + Derivative(f(x), x), 0)</td>\n",
       "      <td>Eq(f(x), C1*exp(x))</td>\n",
       "    </tr>\n",
       "    <tr>\n",
       "      <th>3</th>\n",
       "      <td>Eq(Derivative(f(x), x), x + f(x))</td>\n",
       "      <td>Eq(f(x), (C1 + (-x - 1)*exp(-x))*exp(x))</td>\n",
       "    </tr>\n",
       "    <tr>\n",
       "      <th>4</th>\n",
       "      <td>Eq(-f(x) + Derivative(f(x), x), 0)</td>\n",
       "      <td>Eq(f(x), C1*exp(x))</td>\n",
       "    </tr>\n",
       "    <tr>\n",
       "      <th>...</th>\n",
       "      <td>...</td>\n",
       "      <td>...</td>\n",
       "    </tr>\n",
       "    <tr>\n",
       "      <th>1999995</th>\n",
       "      <td>Eq(Derivative(f(x), x), x + f(x))</td>\n",
       "      <td>Eq(f(x), (C1 + (-x - 1)*exp(-x))*exp(x))</td>\n",
       "    </tr>\n",
       "    <tr>\n",
       "      <th>1999996</th>\n",
       "      <td>Eq(-f(x) + Derivative(f(x), x), 0)</td>\n",
       "      <td>Eq(f(x), C1*exp(x))</td>\n",
       "    </tr>\n",
       "    <tr>\n",
       "      <th>1999997</th>\n",
       "      <td>Eq(Derivative(f(x), x), x + f(x))</td>\n",
       "      <td>Eq(f(x), (C1 + (-x - 1)*exp(-x))*exp(x))</td>\n",
       "    </tr>\n",
       "    <tr>\n",
       "      <th>1999998</th>\n",
       "      <td>Eq(-f(x) + Derivative(f(x), x), 0)</td>\n",
       "      <td>Eq(f(x), C1*exp(x))</td>\n",
       "    </tr>\n",
       "    <tr>\n",
       "      <th>1999999</th>\n",
       "      <td>Eq(Derivative(f(x), x), x + f(x))</td>\n",
       "      <td>Eq(f(x), (C1 + (-x - 1)*exp(-x))*exp(x))</td>\n",
       "    </tr>\n",
       "  </tbody>\n",
       "</table>\n",
       "<p>2000000 rows × 2 columns</p>\n",
       "</div>"
      ],
      "text/plain": [
       "                                          0  \\\n",
       "0        Eq(-f(x) + Derivative(f(x), x), 0)   \n",
       "1         Eq(Derivative(f(x), x), x + f(x))   \n",
       "2        Eq(-f(x) + Derivative(f(x), x), 0)   \n",
       "3         Eq(Derivative(f(x), x), x + f(x))   \n",
       "4        Eq(-f(x) + Derivative(f(x), x), 0)   \n",
       "...                                     ...   \n",
       "1999995   Eq(Derivative(f(x), x), x + f(x))   \n",
       "1999996  Eq(-f(x) + Derivative(f(x), x), 0)   \n",
       "1999997   Eq(Derivative(f(x), x), x + f(x))   \n",
       "1999998  Eq(-f(x) + Derivative(f(x), x), 0)   \n",
       "1999999   Eq(Derivative(f(x), x), x + f(x))   \n",
       "\n",
       "                                                c  \n",
       "0                             Eq(f(x), C1*exp(x))  \n",
       "1        Eq(f(x), (C1 + (-x - 1)*exp(-x))*exp(x))  \n",
       "2                             Eq(f(x), C1*exp(x))  \n",
       "3        Eq(f(x), (C1 + (-x - 1)*exp(-x))*exp(x))  \n",
       "4                             Eq(f(x), C1*exp(x))  \n",
       "...                                           ...  \n",
       "1999995  Eq(f(x), (C1 + (-x - 1)*exp(-x))*exp(x))  \n",
       "1999996                       Eq(f(x), C1*exp(x))  \n",
       "1999997  Eq(f(x), (C1 + (-x - 1)*exp(-x))*exp(x))  \n",
       "1999998                       Eq(f(x), C1*exp(x))  \n",
       "1999999  Eq(f(x), (C1 + (-x - 1)*exp(-x))*exp(x))  \n",
       "\n",
       "[2000000 rows x 2 columns]"
      ]
     },
     "execution_count": 9,
     "metadata": {},
     "output_type": "execute_result"
    }
   ],
   "source": [
    "df"
   ]
  },
  {
   "cell_type": "code",
   "execution_count": null,
   "id": "638d3211-816f-49e9-aae3-79d98ba4daeb",
   "metadata": {},
   "outputs": [],
   "source": []
  }
 ],
 "metadata": {
  "kernelspec": {
   "display_name": "Python 3",
   "language": "python",
   "name": "python3"
  },
  "language_info": {
   "codemirror_mode": {
    "name": "ipython",
    "version": 3
   },
   "file_extension": ".py",
   "mimetype": "text/x-python",
   "name": "python",
   "nbconvert_exporter": "python",
   "pygments_lexer": "ipython3",
   "version": "3.8.2"
  }
 },
 "nbformat": 4,
 "nbformat_minor": 5
}
